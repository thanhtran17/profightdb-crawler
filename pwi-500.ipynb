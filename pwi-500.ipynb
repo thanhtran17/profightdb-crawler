{
 "cells": [
  {
   "cell_type": "markdown",
   "metadata": {},
   "source": [
    "Import packages"
   ]
  },
  {
   "cell_type": "code",
   "execution_count": 139,
   "metadata": {
    "collapsed": true,
    "ExecuteTime": {
     "end_time": "2023-05-16T10:22:40.958977800Z",
     "start_time": "2023-05-16T10:22:40.927056700Z"
    }
   },
   "outputs": [],
   "source": [
    "import pandas as pd\n",
    "from bs4 import BeautifulSoup\n",
    "from selenium import webdriver\n",
    "from selenium.webdriver.chrome.options import Options"
   ]
  },
  {
   "cell_type": "markdown",
   "source": [
    "Constants declarations"
   ],
   "metadata": {
    "collapsed": false
   }
  },
  {
   "cell_type": "code",
   "execution_count": 140,
   "outputs": [],
   "source": [
    "BASE_URL = \"http://www.profightdb.com\""
   ],
   "metadata": {
    "collapsed": false,
    "ExecuteTime": {
     "end_time": "2023-05-16T10:22:40.982931900Z",
     "start_time": "2023-05-16T10:22:40.945634400Z"
    }
   }
  },
  {
   "cell_type": "markdown",
   "metadata": {},
   "source": [
    "Get the HTML content of the url (by year)"
   ]
  },
  {
   "cell_type": "code",
   "execution_count": 141,
   "metadata": {
    "ExecuteTime": {
     "end_time": "2023-05-16T10:22:40.985803200Z",
     "start_time": "2023-05-16T10:22:40.953539200Z"
    }
   },
   "outputs": [],
   "source": [
    "def crawl_by_year(year):\n",
    "    url = f'{BASE_URL}/pwi-500/{year}.html'\n",
    "\n",
    "    options = Options()\n",
    "    options.headless = True\n",
    "    driver = webdriver.Chrome(options=options)\n",
    "    driver.get(url)\n",
    "\n",
    "    html_content = driver.page_source\n",
    "    soup = BeautifulSoup(html_content, 'html.parser')\n",
    "    tbody_array = soup.findAll('tbody')\n",
    "\n",
    "    csv_row_data = []\n",
    "\n",
    "    for tbody in tbody_array:\n",
    "        all_tr_tags = tbody.findAll('tr', { 'class': 'gray' })\n",
    "        for tr in all_tr_tags:\n",
    "            all_td_tags = tr.findAll('td')\n",
    "\n",
    "            position = all_td_tags[0].text.strip()\n",
    "            born_country = all_td_tags[1].find('img')['alt'].strip()\n",
    "            wrestler = all_td_tags[2].text.strip()\n",
    "            prev_pos = all_td_tags[3].text.strip()\n",
    "            diff = all_td_tags[4].text.strip()\n",
    "            note = all_td_tags[5].text.strip()\n",
    "\n",
    "            csv_row_data.append([position, born_country, wrestler, prev_pos, diff, note])\n",
    "\n",
    "    df = pd.DataFrame(\n",
    "        csv_row_data,\n",
    "        columns=['Position', 'Born country', 'Wrestler', 'Previous year position', 'Difference', 'Notes']\n",
    "    )\n",
    "    filename = f'data/processed/pwi-500-{year}.csv'\n",
    "    df.to_csv(filename, index=False)\n",
    "\n",
    "    driver.quit()"
   ]
  },
  {
   "cell_type": "markdown",
   "metadata": {},
   "source": [
    "Iterate through the years from 1991 to 2022, calling the crawl_by_year function for each year"
   ]
  },
  {
   "cell_type": "code",
   "execution_count": 142,
   "metadata": {
    "ExecuteTime": {
     "end_time": "2023-05-16T10:28:38.299871700Z",
     "start_time": "2023-05-16T10:22:40.966159700Z"
    }
   },
   "outputs": [
    {
     "name": "stderr",
     "output_type": "stream",
     "text": [
      "C:\\Users\\Admin\\AppData\\Local\\Temp\\ipykernel_15264\\3031414992.py:5: DeprecationWarning: headless property is deprecated, instead use add_argument('--headless') or add_argument('--headless=new')\n",
      "  options.headless = True\n",
      "C:\\Users\\Admin\\AppData\\Local\\Temp\\ipykernel_15264\\3031414992.py:5: DeprecationWarning: headless property is deprecated, instead use add_argument('--headless') or add_argument('--headless=new')\n",
      "  options.headless = True\n",
      "Exception ignored in: <function Service.__del__ at 0x0000013938BD9F30>\n",
      "Traceback (most recent call last):\n",
      "  File \"C:\\Users\\Admin\\PycharmProjects\\profightdb-crawler\\venv\\lib\\site-packages\\selenium\\webdriver\\common\\service.py\", line 184, in __del__\n",
      "    self.stop()\n",
      "  File \"C:\\Users\\Admin\\PycharmProjects\\profightdb-crawler\\venv\\lib\\site-packages\\selenium\\webdriver\\common\\service.py\", line 145, in stop\n",
      "    self.send_remote_shutdown_command()\n",
      "  File \"C:\\Users\\Admin\\PycharmProjects\\profightdb-crawler\\venv\\lib\\site-packages\\selenium\\webdriver\\common\\service.py\", line 124, in send_remote_shutdown_command\n",
      "    request.urlopen(f\"{self.service_url}/shutdown\")\n",
      "  File \"C:\\Users\\Admin\\AppData\\Local\\Programs\\Python\\Python310\\lib\\urllib\\request.py\", line 216, in urlopen\n",
      "    return opener.open(url, data, timeout)\n",
      "  File \"C:\\Users\\Admin\\AppData\\Local\\Programs\\Python\\Python310\\lib\\urllib\\request.py\", line 519, in open\n",
      "    response = self._open(req, data)\n",
      "  File \"C:\\Users\\Admin\\AppData\\Local\\Programs\\Python\\Python310\\lib\\urllib\\request.py\", line 536, in _open\n",
      "    result = self._call_chain(self.handle_open, protocol, protocol +\n",
      "  File \"C:\\Users\\Admin\\AppData\\Local\\Programs\\Python\\Python310\\lib\\urllib\\request.py\", line 496, in _call_chain\n",
      "    result = func(*args)\n",
      "  File \"C:\\Users\\Admin\\AppData\\Local\\Programs\\Python\\Python310\\lib\\urllib\\request.py\", line 1377, in http_open\n",
      "    return self.do_open(http.client.HTTPConnection, req)\n",
      "  File \"C:\\Users\\Admin\\AppData\\Local\\Programs\\Python\\Python310\\lib\\urllib\\request.py\", line 1348, in do_open\n",
      "    h.request(req.get_method(), req.selector, req.data, headers,\n",
      "  File \"C:\\Users\\Admin\\AppData\\Local\\Programs\\Python\\Python310\\lib\\http\\client.py\", line 1282, in request\n",
      "    self._send_request(method, url, body, headers, encode_chunked)\n",
      "  File \"C:\\Users\\Admin\\AppData\\Local\\Programs\\Python\\Python310\\lib\\http\\client.py\", line 1328, in _send_request\n",
      "    self.endheaders(body, encode_chunked=encode_chunked)\n",
      "  File \"C:\\Users\\Admin\\AppData\\Local\\Programs\\Python\\Python310\\lib\\http\\client.py\", line 1277, in endheaders\n",
      "    self._send_output(message_body, encode_chunked=encode_chunked)\n",
      "  File \"C:\\Users\\Admin\\AppData\\Local\\Programs\\Python\\Python310\\lib\\http\\client.py\", line 1037, in _send_output\n",
      "    self.send(msg)\n",
      "  File \"C:\\Users\\Admin\\AppData\\Local\\Programs\\Python\\Python310\\lib\\http\\client.py\", line 975, in send\n",
      "    self.connect()\n",
      "  File \"C:\\Users\\Admin\\AppData\\Local\\Programs\\Python\\Python310\\lib\\http\\client.py\", line 941, in connect\n",
      "    self.sock = self._create_connection(\n",
      "  File \"C:\\Users\\Admin\\AppData\\Local\\Programs\\Python\\Python310\\lib\\socket.py\", line 833, in create_connection\n",
      "    sock.connect(sa)\n",
      "KeyboardInterrupt: \n"
     ]
    }
   ],
   "source": [
    "for year in range(1991, 2022):\n",
    "    crawl_by_year(year)"
   ]
  }
 ],
 "metadata": {
  "kernelspec": {
   "display_name": "Python 3 (ipykernel)",
   "language": "python",
   "name": "python3"
  },
  "language_info": {
   "codemirror_mode": {
    "name": "ipython",
    "version": 3
   },
   "file_extension": ".py",
   "mimetype": "text/x-python",
   "name": "python",
   "nbconvert_exporter": "python",
   "pygments_lexer": "ipython3",
   "version": "3.10.10"
  }
 },
 "nbformat": 4,
 "nbformat_minor": 1
}
