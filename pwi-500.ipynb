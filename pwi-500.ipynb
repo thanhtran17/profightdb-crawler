{
 "cells": [
  {
   "cell_type": "markdown",
   "metadata": {},
   "source": [
    "Import packages"
   ]
  },
  {
   "cell_type": "code",
   "execution_count": 143,
   "metadata": {
    "collapsed": true,
    "ExecuteTime": {
     "end_time": "2023-05-16T10:31:25.727163800Z",
     "start_time": "2023-05-16T10:31:25.677288300Z"
    }
   },
   "outputs": [],
   "source": [
    "import pandas as pd\n",
    "from bs4 import BeautifulSoup\n",
    "from selenium import webdriver\n",
    "from selenium.webdriver.chrome.options import Options"
   ]
  },
  {
   "cell_type": "markdown",
   "source": [
    "Constants declarations"
   ],
   "metadata": {
    "collapsed": false
   }
  },
  {
   "cell_type": "code",
   "execution_count": 144,
   "outputs": [],
   "source": [
    "BASE_URL = \"http://www.profightdb.com\""
   ],
   "metadata": {
    "collapsed": false,
    "ExecuteTime": {
     "end_time": "2023-05-16T10:31:25.750533900Z",
     "start_time": "2023-05-16T10:31:25.690732400Z"
    }
   }
  },
  {
   "cell_type": "markdown",
   "metadata": {},
   "source": [
    "Get the HTML content of the url (by year)"
   ]
  },
  {
   "cell_type": "code",
   "execution_count": 145,
   "metadata": {
    "ExecuteTime": {
     "end_time": "2023-05-16T10:31:25.750533900Z",
     "start_time": "2023-05-16T10:31:25.733793500Z"
    }
   },
   "outputs": [],
   "source": [
    "def crawl_by_year(year):\n",
    "    url = f'{BASE_URL}/pwi-500/{year}.html'\n",
    "\n",
    "    options = Options()\n",
    "    options.headless = True\n",
    "    driver = webdriver.Chrome(options=options)\n",
    "    driver.get(url)\n",
    "\n",
    "    html_content = driver.page_source\n",
    "    soup = BeautifulSoup(html_content, 'html.parser')\n",
    "    tbody_array = soup.findAll('tbody')\n",
    "\n",
    "    csv_row_data = []\n",
    "\n",
    "    for tbody in tbody_array:\n",
    "        all_tr_tags = tbody.findAll('tr', { 'class': 'gray' })\n",
    "        for tr in all_tr_tags:\n",
    "            all_td_tags = tr.findAll('td')\n",
    "\n",
    "            position = all_td_tags[0].text.strip()\n",
    "            born_country = all_td_tags[1].find('img')['alt'].strip()\n",
    "            wrestler = all_td_tags[2].text.strip()\n",
    "            prev_pos = all_td_tags[3].text.strip()\n",
    "            diff = all_td_tags[4].text.strip()\n",
    "            note = all_td_tags[5].text.strip()\n",
    "\n",
    "            csv_row_data.append([position, born_country, wrestler, prev_pos, diff, note])\n",
    "\n",
    "    df = pd.DataFrame(\n",
    "        csv_row_data,\n",
    "        columns=['Position', 'Born country', 'Wrestler', 'Previous year position', 'Difference', 'Notes']\n",
    "    )\n",
    "    filename = f'data/processed/pwi-500-{year}.csv'\n",
    "    df.to_csv(filename, index=False)\n",
    "\n",
    "    driver.quit()"
   ]
  },
  {
   "cell_type": "markdown",
   "metadata": {},
   "source": [
    "Iterate through the years from 1991 to 2022, calling the crawl_by_year function for each year"
   ]
  },
  {
   "cell_type": "code",
   "execution_count": 147,
   "metadata": {
    "ExecuteTime": {
     "end_time": "2023-05-16T10:38:14.590697100Z",
     "start_time": "2023-05-16T10:38:02.873156800Z"
    }
   },
   "outputs": [
    {
     "name": "stderr",
     "output_type": "stream",
     "text": [
      "C:\\Users\\Admin\\AppData\\Local\\Temp\\ipykernel_15264\\3031414992.py:5: DeprecationWarning: headless property is deprecated, instead use add_argument('--headless') or add_argument('--headless=new')\n",
      "  options.headless = True\n"
     ]
    }
   ],
   "source": [
    "for year in range(1991, 2023):\n",
    "    crawl_by_year(year)"
   ]
  },
  {
   "cell_type": "code",
   "execution_count": null,
   "outputs": [],
   "source": [],
   "metadata": {
    "collapsed": false
   }
  }
 ],
 "metadata": {
  "kernelspec": {
   "display_name": "Python 3 (ipykernel)",
   "language": "python",
   "name": "python3"
  },
  "language_info": {
   "codemirror_mode": {
    "name": "ipython",
    "version": 3
   },
   "file_extension": ".py",
   "mimetype": "text/x-python",
   "name": "python",
   "nbconvert_exporter": "python",
   "pygments_lexer": "ipython3",
   "version": "3.10.10"
  }
 },
 "nbformat": 4,
 "nbformat_minor": 1
}
